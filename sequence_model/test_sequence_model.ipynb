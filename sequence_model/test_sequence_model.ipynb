{
 "cells": [
  {
   "cell_type": "code",
   "execution_count": 1,
   "id": "551e1b2e-a078-4538-aad3-d60637494c31",
   "metadata": {},
   "outputs": [],
   "source": [
    "from  test_model import do_test\n",
    "from sequence_model import CTPAModel  \n",
    "from sequence_dataset import ChunkDataset\n",
    "from torch.utils.data import Dataset, DataLoader\n",
    "import torch\n",
    "import pandas as pd"
   ]
  },
  {
   "cell_type": "code",
   "execution_count": 2,
   "id": "adc07002-2767-4d8b-96fa-17e0227e85d8",
   "metadata": {},
   "outputs": [],
   "source": [
    "import pickle\n",
    "import pandas as pd\n",
    "#reading embeddings with and without offset\n",
    "file_paths0 =  \"C:\\\\Users\\\\preet\\\\Documents\\\\penet\\\\results\\\\best_result_shift_0\\\\embs_test.pickle\"\n",
    "\n",
    "file_paths1 = \"C:\\\\Users\\\\preet\\\\Documents\\\\penet\\\\results\\\\best_result_shift_1\\\\embs_test.pickle\"\n",
    "\n",
    "def return_loaded_files(file_path):\n",
    "  \n",
    "  \n",
    "    with open(file_path, 'rb') as f:\n",
    "            # Load the pickled object from the file\n",
    "            loaded_data_test = pickle.load(f)\n",
    "    return loaded_data_test\n"
   ]
  },
  {
   "cell_type": "code",
   "execution_count": 3,
   "id": "de4b222e-2866-48fe-bf21-dcf6973ce19b",
   "metadata": {},
   "outputs": [],
   "source": [
    "emb_test = return_loaded_files(file_paths0)\n",
    "emb_test1 = return_loaded_files(file_paths1)\n",
    "df_test = pd.DataFrame(emb_test)\n",
    "df_test[\"emb1\"] = emb_test1[\"emb\"]\n",
    "df_test[\"prob1\"] = emb_test1[\"prob\"]\n",
    "test_dataset = ChunkDataset(df_test)\n",
    "test_dataloader = DataLoader(test_dataset, batch_size=2, num_workers=0,drop_last=True)\n"
   ]
  },
  {
   "cell_type": "code",
   "execution_count": 4,
   "id": "dfec637a-d770-48a7-9a69-2d6f988c259b",
   "metadata": {},
   "outputs": [
    {
     "data": {
      "text/plain": [
       "CTPAModel(\n",
       "  (pos_embedding): Embedding(1024, 384)\n",
       "  (encoder_layer): TransformerEncoderLayer(\n",
       "    (self_attn): MultiheadAttention(\n",
       "      (out_proj): NonDynamicallyQuantizableLinear(in_features=384, out_features=384, bias=True)\n",
       "    )\n",
       "    (linear1): Linear(in_features=384, out_features=2048, bias=True)\n",
       "    (dropout): Dropout(p=0.1, inplace=False)\n",
       "    (linear2): Linear(in_features=2048, out_features=384, bias=True)\n",
       "    (norm1): LayerNorm((384,), eps=1e-05, elementwise_affine=True)\n",
       "    (norm2): LayerNorm((384,), eps=1e-05, elementwise_affine=True)\n",
       "    (dropout1): Dropout(p=0.1, inplace=False)\n",
       "    (dropout2): Dropout(p=0.1, inplace=False)\n",
       "  )\n",
       "  (encoder): TransformerEncoder(\n",
       "    (layers): ModuleList(\n",
       "      (0-3): 4 x TransformerEncoderLayer(\n",
       "        (self_attn): MultiheadAttention(\n",
       "          (out_proj): NonDynamicallyQuantizableLinear(in_features=384, out_features=384, bias=True)\n",
       "        )\n",
       "        (linear1): Linear(in_features=384, out_features=2048, bias=True)\n",
       "        (dropout): Dropout(p=0.1, inplace=False)\n",
       "        (linear2): Linear(in_features=2048, out_features=384, bias=True)\n",
       "        (norm1): LayerNorm((384,), eps=1e-05, elementwise_affine=True)\n",
       "        (norm2): LayerNorm((384,), eps=1e-05, elementwise_affine=True)\n",
       "        (dropout1): Dropout(p=0.1, inplace=False)\n",
       "        (dropout2): Dropout(p=0.1, inplace=False)\n",
       "      )\n",
       "    )\n",
       "  )\n",
       "  (output_linear): Linear(in_features=384, out_features=2, bias=True)\n",
       "  (dropout): Dropout(p=0.1, inplace=False)\n",
       ")"
      ]
     },
     "execution_count": 4,
     "metadata": {},
     "output_type": "execute_result"
    }
   ],
   "source": [
    "embed_dim = 384\n",
    "num_heads = 8\n",
    "num_layers = 4\n",
    "\n",
    "model = CTPAModel(embed_dim, num_heads, num_layers, drop_prob=0.1)\n",
    "model.to(\"cuda\")"
   ]
  },
  {
   "cell_type": "code",
   "execution_count": 5,
   "id": "c10200ba-9a51-4639-94df-d1ee2d31227f",
   "metadata": {},
   "outputs": [
    {
     "name": "stderr",
     "output_type": "stream",
     "text": [
      "  0%|                                                                                           | 0/81 [00:00<?, ?it/s]C:\\Users\\preet\\Documents\\penet\\sequence_model\\sequence_dataset.py:27: UserWarning: Creating a tensor from a list of numpy.ndarrays is extremely slow. Please consider converting the list to a single numpy.ndarray with numpy.array() before converting to a tensor. (Triggered internally at C:\\actions-runner\\_work\\pytorch\\pytorch\\pytorch\\torch\\csrc\\utils\\tensor_new.cpp:257.)\n",
      "  x =torch.tensor(emblist)\n",
      "C:\\Users\\preet\\Documents\\penet\\sequence_model\\test_model.py:26: UserWarning: Implicit dimension choice for softmax has been deprecated. Change the call to include dim=X as an argument.\n",
      "  output.extend(F.softmax(outputs).cpu().numpy()[:, 1])\n",
      "100%|██████████████████████████████████████████████████████████████████████████████████| 81/81 [00:00<00:00, 89.50it/s]"
     ]
    },
    {
     "name": "stdout",
     "output_type": "stream",
     "text": [
      "Test loss0.516, F1 0.733, Acc 0.796, BA 0.834, precision 0.455, recall 0.893\n",
      "cm[[104  30]\n",
      " [  3  25]]\n",
      "{'Accuracy': 0.7962962962962963, 'Sensitivity': 0.8928571428571429, 'Specificity': 0.7761194029850746, 'Precision': 0.45454545454545453, 'AUC-ROC': 0.9442963752665245, 'AUC-PR': 0.7829526731862685, 'Balanced Accuracy': 0.8344882729211087, 'F1 Score': 0.732740088986652}\n",
      "   Accuracy  Sensitivity  Specificity  Precision   AUC-ROC    AUC-PR  \\\n",
      "0  0.796296     0.892857     0.776119   0.454545  0.944296  0.782953   \n",
      "\n",
      "   Balanced Accuracy  F1 Score  \n",
      "0           0.834488   0.73274  \n"
     ]
    },
    {
     "name": "stderr",
     "output_type": "stream",
     "text": [
      "\n"
     ]
    }
   ],
   "source": [
    "state_dict = torch.load(r\"C:\\Users\\preet\\Documents\\penet\\results_sequence\\best_model.pth\") \n",
    "model.load_state_dict(state_dict)\n",
    "metrics, output = do_test(test_dataloader, model)\n",
    "del metrics[\"Loss\"]\n",
    "print(metrics)\n",
    "metrics_df = pd.DataFrame.from_dict([metrics])\n",
    "print(metrics_df.head())"
   ]
  },
  {
   "cell_type": "code",
   "execution_count": null,
   "id": "3ca06764-c1de-4b0a-9a81-575593afca4e",
   "metadata": {},
   "outputs": [],
   "source": []
  }
 ],
 "metadata": {
  "kernelspec": {
   "display_name": "Python 3 (ipykernel)",
   "language": "python",
   "name": "python3"
  },
  "language_info": {
   "codemirror_mode": {
    "name": "ipython",
    "version": 3
   },
   "file_extension": ".py",
   "mimetype": "text/x-python",
   "name": "python",
   "nbconvert_exporter": "python",
   "pygments_lexer": "ipython3",
   "version": "3.10.18"
  }
 },
 "nbformat": 4,
 "nbformat_minor": 5
}
