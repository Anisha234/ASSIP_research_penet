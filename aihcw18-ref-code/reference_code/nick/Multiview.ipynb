{
 "cells": [
  {
   "cell_type": "code",
   "execution_count": 1,
   "metadata": {
    "collapsed": true
   },
   "outputs": [],
   "source": [
    "import pandas as pd\n",
    "import numpy as np \n",
    "import torch\n",
    "import torch.utils.data as data\n",
    "from torch.autograd import Variable"
   ]
  },
  {
   "cell_type": "code",
   "execution_count": 2,
   "metadata": {
    "collapsed": true
   },
   "outputs": [],
   "source": [
    "import utils"
   ]
  },
  {
   "cell_type": "code",
   "execution_count": 3,
   "metadata": {
    "collapsed": true
   },
   "outputs": [],
   "source": [
    "ab_cor = ('nbien-full-dataset/1521632177_abnormal_coronal_alexnet_coronal/val0.1570933759212494_train0.12708044052124023_epoch11', 'coronal')\n",
    "ab_sag = ('nbien-full-dataset/1521632163_abnormal_sagittal_alexnet_sagittal/val0.10419943183660507_train0.09963367879390717_epoch13', 'sagittal')\n",
    "ab_ax = ('nbien-full-dataset/1521632186_abnormal_axial_alexnet_axial/val0.10126200318336487_train0.10181700438261032_epoch14', 'axial')"
   ]
  },
  {
   "cell_type": "code",
   "execution_count": 4,
   "metadata": {},
   "outputs": [
    {
     "name": "stdout",
     "output_type": "stream",
     "text": [
      "---Retrieved model args\n",
      "---Loading data\n",
      "Task abnormal\n",
      "/deep/group/aihc-bootcamp-winter2018/medical-imaging/mr_knee_abnormality/data-final/train.csv\n",
      "Abnormal counts: Counter({1: 913, 0: 217})\n",
      "ACL counts: Counter({0: 922, 1: 208})\n",
      "Meniscus counts: Counter({0: 733, 1: 397})\n",
      "Task abnormal\n",
      "/deep/group/aihc-bootcamp-winter2018/medical-imaging/mr_knee_abnormality/data-final/valid.csv\n",
      "Abnormal counts: Counter({1: 95, 0: 25})\n",
      "ACL counts: Counter({0: 66, 1: 54})\n",
      "Meniscus counts: Counter({0: 68, 1: 52})\n",
      "Task abnormal\n",
      "/deep/group/aihc-bootcamp-winter2018/medical-imaging/mr_knee_abnormality/data-final/test.csv\n",
      "Abnormal counts: Counter({1: 96, 0: 24})\n",
      "ACL counts: Counter({0: 63, 1: 57})\n",
      "Meniscus counts: Counter({0: 61, 1: 59})\n",
      "Task abnormal\n",
      "---Data loading complete\n",
      "---Loading state dict\n",
      "---Loading model\n",
      "---Retrieved model args\n",
      "---Loading data\n",
      "Task abnormal\n",
      "/deep/group/aihc-bootcamp-winter2018/medical-imaging/mr_knee_abnormality/data-final/train.csv\n",
      "Abnormal counts: Counter({1: 913, 0: 217})\n",
      "ACL counts: Counter({0: 922, 1: 208})\n",
      "Meniscus counts: Counter({0: 733, 1: 397})\n",
      "Task abnormal\n",
      "/deep/group/aihc-bootcamp-winter2018/medical-imaging/mr_knee_abnormality/data-final/valid.csv\n",
      "Abnormal counts: Counter({1: 95, 0: 25})\n",
      "ACL counts: Counter({0: 66, 1: 54})\n",
      "Meniscus counts: Counter({0: 68, 1: 52})\n",
      "Task abnormal\n",
      "/deep/group/aihc-bootcamp-winter2018/medical-imaging/mr_knee_abnormality/data-final/test.csv\n",
      "Abnormal counts: Counter({1: 96, 0: 24})\n",
      "ACL counts: Counter({0: 63, 1: 57})\n",
      "Meniscus counts: Counter({0: 61, 1: 59})\n",
      "Task abnormal\n",
      "---Data loading complete\n",
      "---Loading state dict\n",
      "---Loading model\n",
      "---Retrieved model args\n",
      "---Loading data\n",
      "Task abnormal\n",
      "/deep/group/aihc-bootcamp-winter2018/medical-imaging/mr_knee_abnormality/data-final/train.csv\n",
      "Abnormal counts: Counter({1: 913, 0: 217})\n",
      "ACL counts: Counter({0: 922, 1: 208})\n",
      "Meniscus counts: Counter({0: 733, 1: 397})\n",
      "Task abnormal\n",
      "/deep/group/aihc-bootcamp-winter2018/medical-imaging/mr_knee_abnormality/data-final/valid.csv\n",
      "Abnormal counts: Counter({1: 95, 0: 25})\n",
      "ACL counts: Counter({0: 66, 1: 54})\n",
      "Meniscus counts: Counter({0: 68, 1: 52})\n",
      "Task abnormal\n",
      "/deep/group/aihc-bootcamp-winter2018/medical-imaging/mr_knee_abnormality/data-final/test.csv\n",
      "Abnormal counts: Counter({1: 96, 0: 24})\n",
      "ACL counts: Counter({0: 63, 1: 57})\n",
      "Meniscus counts: Counter({0: 61, 1: 59})\n",
      "Task abnormal\n",
      "---Data loading complete\n",
      "---Loading state dict\n",
      "---Loading model\n"
     ]
    }
   ],
   "source": [
    "sag_model_path = '/deep/group/aihc-bootcamp-winter2018/medical-imaging/mr_knee_abnormality/models/' +\\\n",
    "            ab_sag[0]\n",
    "ax_model_path = '/deep/group/aihc-bootcamp-winter2018/medical-imaging/mr_knee_abnormality/models/' +\\\n",
    "            ab_ax[0]\n",
    "cor_model_path = '/deep/group/aihc-bootcamp-winter2018/medical-imaging/mr_knee_abnormality/models/' +\\\n",
    "            ab_cor[0]\n",
    "dataset = 'valid'\n",
    "sag_model, sag_loader = utils.get_model_and_loader(sag_model_path, dataset, view = 'all')\n",
    "ax_model, ax_loader = utils.get_model_and_loader(sag_model_path, dataset, view = 'all')\n",
    "cor_model, cor_loader = utils.get_model_and_loader(sag_model_path, dataset, view = 'all')"
   ]
  },
  {
   "cell_type": "code",
   "execution_count": 5,
   "metadata": {
    "collapsed": true
   },
   "outputs": [],
   "source": [
    "models = {'sagittal': sag_model, 'coronal': cor_model, 'axial': ax_model}"
   ]
  },
  {
   "cell_type": "code",
   "execution_count": 8,
   "metadata": {},
   "outputs": [],
   "source": [
    "def construct_output_table(models, loader, threshhold = None, filename = None):\n",
    "    #Models: dict mapping 'ax', 'cor', or 'sag' to the corresponding model\n",
    "    #Loaders: same thing, but with dataloaders\n",
    "    #Change filename to not None when we want to save.\n",
    "    views = ['sagittal', 'coronal', 'axial'] #Allows us to fix order\n",
    "    output_table = []\n",
    "    #Assumes single class. \n",
    "    for batch, label in loader:\n",
    "        outputs = []\n",
    "        for view in views:\n",
    "            print(type(batch[view]))\n",
    "            print(batch.keys())\n",
    "            view_output = models[view](Variable(batch[view].float().cuda()))\n",
    "            if threshhold is not None:\n",
    "                view_output = (view_output > threshhold)\n",
    "            outputs.append(view_output)\n",
    "        outputs.append(label.numpy()[0])\n",
    "        output_table.append(np.array(outputs))\n",
    "    output_table = np.array(output_table)\n",
    "    output_dataFrame = pd.DataFrame(data = output_table, columns = ['SAG', 'COR', 'AX', 'LABEL'])\n",
    "    if filename is not None:\n",
    "        output_dataFrame.to_csv(filename)\n",
    "    X = output_table[:, :3]\n",
    "    Y = output_table[:, 3]\n",
    "    return X, Y"
   ]
  },
  {
   "cell_type": "code",
   "execution_count": 9,
   "metadata": {},
   "outputs": [
    {
     "name": "stdout",
     "output_type": "stream",
     "text": [
      "<class 'torch.DoubleTensor'>\n",
      "dict_keys(['sagittal', 'axial', 'coronal'])\n",
      "<class 'torch.DoubleTensor'>\n",
      "dict_keys(['sagittal', 'axial', 'coronal'])\n",
      "<class 'torch.DoubleTensor'>\n",
      "dict_keys(['sagittal', 'axial', 'coronal'])\n",
      "<class 'torch.DoubleTensor'>\n",
      "dict_keys(['sagittal', 'axial', 'coronal'])\n",
      "<class 'torch.DoubleTensor'>\n",
      "dict_keys(['sagittal', 'axial', 'coronal'])\n",
      "<class 'torch.DoubleTensor'>\n",
      "dict_keys(['sagittal', 'axial', 'coronal'])\n",
      "<class 'torch.DoubleTensor'>\n",
      "dict_keys(['sagittal', 'axial', 'coronal'])\n",
      "<class 'torch.DoubleTensor'>\n",
      "dict_keys(['sagittal', 'axial', 'coronal'])\n",
      "<class 'torch.DoubleTensor'>\n",
      "dict_keys(['sagittal', 'axial', 'coronal'])\n",
      "<class 'torch.DoubleTensor'>\n",
      "dict_keys(['sagittal', 'axial', 'coronal'])\n",
      "<class 'torch.DoubleTensor'>\n",
      "dict_keys(['sagittal', 'axial', 'coronal'])\n",
      "<class 'torch.DoubleTensor'>\n",
      "dict_keys(['sagittal', 'axial', 'coronal'])\n",
      "<class 'torch.DoubleTensor'>\n",
      "dict_keys(['sagittal', 'axial', 'coronal'])\n",
      "<class 'torch.DoubleTensor'>\n",
      "dict_keys(['sagittal', 'axial', 'coronal'])\n",
      "<class 'torch.DoubleTensor'>\n",
      "dict_keys(['sagittal', 'axial', 'coronal'])\n",
      "<class 'torch.DoubleTensor'>\n",
      "dict_keys(['sagittal', 'axial', 'coronal'])\n",
      "<class 'torch.DoubleTensor'>\n",
      "dict_keys(['sagittal', 'axial', 'coronal'])\n",
      "<class 'torch.DoubleTensor'>\n",
      "dict_keys(['sagittal', 'axial', 'coronal'])\n",
      "<class 'torch.DoubleTensor'>\n",
      "dict_keys(['sagittal', 'axial', 'coronal'])\n",
      "<class 'torch.DoubleTensor'>\n",
      "dict_keys(['sagittal', 'axial', 'coronal'])\n",
      "<class 'torch.DoubleTensor'>\n",
      "dict_keys(['sagittal', 'axial', 'coronal'])\n",
      "<class 'torch.DoubleTensor'>\n",
      "dict_keys(['sagittal', 'axial', 'coronal'])\n",
      "<class 'torch.DoubleTensor'>\n",
      "dict_keys(['sagittal', 'axial', 'coronal'])\n",
      "<class 'torch.DoubleTensor'>\n",
      "dict_keys(['sagittal', 'axial', 'coronal'])\n",
      "<class 'torch.DoubleTensor'>\n",
      "dict_keys(['sagittal', 'axial', 'coronal'])\n",
      "<class 'torch.DoubleTensor'>\n",
      "dict_keys(['sagittal', 'axial', 'coronal'])\n",
      "<class 'torch.DoubleTensor'>\n",
      "dict_keys(['sagittal', 'axial', 'coronal'])\n",
      "<class 'torch.DoubleTensor'>\n",
      "dict_keys(['sagittal', 'axial', 'coronal'])\n",
      "<class 'torch.DoubleTensor'>\n",
      "dict_keys(['sagittal', 'axial', 'coronal'])\n",
      "<class 'torch.DoubleTensor'>\n",
      "dict_keys(['sagittal', 'axial', 'coronal'])\n",
      "<class 'torch.DoubleTensor'>\n",
      "dict_keys(['sagittal', 'axial', 'coronal'])\n",
      "<class 'torch.DoubleTensor'>\n",
      "dict_keys(['sagittal', 'axial', 'coronal'])\n",
      "<class 'torch.DoubleTensor'>\n",
      "dict_keys(['sagittal', 'axial', 'coronal'])\n",
      "<class 'torch.DoubleTensor'>\n",
      "dict_keys(['sagittal', 'axial', 'coronal'])\n",
      "<class 'torch.DoubleTensor'>\n",
      "dict_keys(['sagittal', 'axial', 'coronal'])\n",
      "<class 'torch.DoubleTensor'>\n",
      "dict_keys(['sagittal', 'axial', 'coronal'])\n",
      "<class 'torch.DoubleTensor'>\n",
      "dict_keys(['sagittal', 'axial', 'coronal'])\n",
      "<class 'torch.DoubleTensor'>\n",
      "dict_keys(['sagittal', 'axial', 'coronal'])\n",
      "<class 'torch.DoubleTensor'>\n",
      "dict_keys(['sagittal', 'axial', 'coronal'])\n"
     ]
    },
    {
     "ename": "RuntimeError",
     "evalue": "cuda runtime error (2) : out of memory at /opt/conda/conda-bld/pytorch_1512386481460/work/torch/lib/THC/generic/THCStorage.cu:58",
     "output_type": "error",
     "traceback": [
      "\u001b[0;31m---------------------------------------------------------------------------\u001b[0m",
      "\u001b[0;31mRuntimeError\u001b[0m                              Traceback (most recent call last)",
      "\u001b[0;32m<ipython-input-9-afa129148b17>\u001b[0m in \u001b[0;36m<module>\u001b[0;34m()\u001b[0m\n\u001b[0;32m----> 1\u001b[0;31m \u001b[0mconstruct_output_table\u001b[0m\u001b[0;34m(\u001b[0m\u001b[0mmodels\u001b[0m\u001b[0;34m,\u001b[0m \u001b[0max_loader\u001b[0m\u001b[0;34m)\u001b[0m\u001b[0;34m\u001b[0m\u001b[0m\n\u001b[0m",
      "\u001b[0;32m<ipython-input-8-c69e3ce5ab68>\u001b[0m in \u001b[0;36mconstruct_output_table\u001b[0;34m(models, loader, threshhold, filename)\u001b[0m\n\u001b[1;32m     11\u001b[0m             \u001b[0mprint\u001b[0m\u001b[0;34m(\u001b[0m\u001b[0mtype\u001b[0m\u001b[0;34m(\u001b[0m\u001b[0mbatch\u001b[0m\u001b[0;34m[\u001b[0m\u001b[0mview\u001b[0m\u001b[0;34m]\u001b[0m\u001b[0;34m)\u001b[0m\u001b[0;34m)\u001b[0m\u001b[0;34m\u001b[0m\u001b[0m\n\u001b[1;32m     12\u001b[0m             \u001b[0mprint\u001b[0m\u001b[0;34m(\u001b[0m\u001b[0mbatch\u001b[0m\u001b[0;34m.\u001b[0m\u001b[0mkeys\u001b[0m\u001b[0;34m(\u001b[0m\u001b[0;34m)\u001b[0m\u001b[0;34m)\u001b[0m\u001b[0;34m\u001b[0m\u001b[0m\n\u001b[0;32m---> 13\u001b[0;31m             \u001b[0mview_output\u001b[0m \u001b[0;34m=\u001b[0m \u001b[0mmodels\u001b[0m\u001b[0;34m[\u001b[0m\u001b[0mview\u001b[0m\u001b[0;34m]\u001b[0m\u001b[0;34m(\u001b[0m\u001b[0mVariable\u001b[0m\u001b[0;34m(\u001b[0m\u001b[0mbatch\u001b[0m\u001b[0;34m[\u001b[0m\u001b[0mview\u001b[0m\u001b[0;34m]\u001b[0m\u001b[0;34m.\u001b[0m\u001b[0mfloat\u001b[0m\u001b[0;34m(\u001b[0m\u001b[0;34m)\u001b[0m\u001b[0;34m.\u001b[0m\u001b[0mcuda\u001b[0m\u001b[0;34m(\u001b[0m\u001b[0;34m)\u001b[0m\u001b[0;34m)\u001b[0m\u001b[0;34m)\u001b[0m\u001b[0;34m\u001b[0m\u001b[0m\n\u001b[0m\u001b[1;32m     14\u001b[0m             \u001b[0;32mif\u001b[0m \u001b[0mthreshhold\u001b[0m \u001b[0;32mis\u001b[0m \u001b[0;32mnot\u001b[0m \u001b[0;32mNone\u001b[0m\u001b[0;34m:\u001b[0m\u001b[0;34m\u001b[0m\u001b[0m\n\u001b[1;32m     15\u001b[0m                 \u001b[0mview_output\u001b[0m \u001b[0;34m=\u001b[0m \u001b[0;34m(\u001b[0m\u001b[0mview_output\u001b[0m \u001b[0;34m>\u001b[0m \u001b[0mthreshhold\u001b[0m\u001b[0;34m)\u001b[0m\u001b[0;34m\u001b[0m\u001b[0m\n",
      "\u001b[0;32m/deep/group/packages/miniconda3/envs/imaging-vis/lib/python3.6/site-packages/torch/nn/modules/module.py\u001b[0m in \u001b[0;36m__call__\u001b[0;34m(self, *input, **kwargs)\u001b[0m\n\u001b[1;32m    323\u001b[0m         \u001b[0;32mfor\u001b[0m \u001b[0mhook\u001b[0m \u001b[0;32min\u001b[0m \u001b[0mself\u001b[0m\u001b[0;34m.\u001b[0m\u001b[0m_forward_pre_hooks\u001b[0m\u001b[0;34m.\u001b[0m\u001b[0mvalues\u001b[0m\u001b[0;34m(\u001b[0m\u001b[0;34m)\u001b[0m\u001b[0;34m:\u001b[0m\u001b[0;34m\u001b[0m\u001b[0m\n\u001b[1;32m    324\u001b[0m             \u001b[0mhook\u001b[0m\u001b[0;34m(\u001b[0m\u001b[0mself\u001b[0m\u001b[0;34m,\u001b[0m \u001b[0minput\u001b[0m\u001b[0;34m)\u001b[0m\u001b[0;34m\u001b[0m\u001b[0m\n\u001b[0;32m--> 325\u001b[0;31m         \u001b[0mresult\u001b[0m \u001b[0;34m=\u001b[0m \u001b[0mself\u001b[0m\u001b[0;34m.\u001b[0m\u001b[0mforward\u001b[0m\u001b[0;34m(\u001b[0m\u001b[0;34m*\u001b[0m\u001b[0minput\u001b[0m\u001b[0;34m,\u001b[0m \u001b[0;34m**\u001b[0m\u001b[0mkwargs\u001b[0m\u001b[0;34m)\u001b[0m\u001b[0;34m\u001b[0m\u001b[0m\n\u001b[0m\u001b[1;32m    326\u001b[0m         \u001b[0;32mfor\u001b[0m \u001b[0mhook\u001b[0m \u001b[0;32min\u001b[0m \u001b[0mself\u001b[0m\u001b[0;34m.\u001b[0m\u001b[0m_forward_hooks\u001b[0m\u001b[0;34m.\u001b[0m\u001b[0mvalues\u001b[0m\u001b[0;34m(\u001b[0m\u001b[0;34m)\u001b[0m\u001b[0;34m:\u001b[0m\u001b[0;34m\u001b[0m\u001b[0m\n\u001b[1;32m    327\u001b[0m             \u001b[0mhook_result\u001b[0m \u001b[0;34m=\u001b[0m \u001b[0mhook\u001b[0m\u001b[0;34m(\u001b[0m\u001b[0mself\u001b[0m\u001b[0;34m,\u001b[0m \u001b[0minput\u001b[0m\u001b[0;34m,\u001b[0m \u001b[0mresult\u001b[0m\u001b[0;34m)\u001b[0m\u001b[0;34m\u001b[0m\u001b[0m\n",
      "\u001b[0;32m/net/10.79.12.62/deep/group/aihc-bootcamp-winter2018/erjones/ImAssign3/model/models.py\u001b[0m in \u001b[0;36mforward\u001b[0;34m(self, X)\u001b[0m\n\u001b[1;32m    148\u001b[0m         \u001b[0mX\u001b[0m \u001b[0;34m=\u001b[0m \u001b[0mtorch\u001b[0m\u001b[0;34m.\u001b[0m\u001b[0msqueeze\u001b[0m\u001b[0;34m(\u001b[0m\u001b[0mX\u001b[0m\u001b[0;34m,\u001b[0m \u001b[0mdim\u001b[0m\u001b[0;34m=\u001b[0m\u001b[0;36m0\u001b[0m\u001b[0;34m)\u001b[0m\u001b[0;34m\u001b[0m\u001b[0m\n\u001b[1;32m    149\u001b[0m         \u001b[0;31m#print('squeeze batch_size: ', X.size())\u001b[0m\u001b[0;34m\u001b[0m\u001b[0;34m\u001b[0m\u001b[0m\n\u001b[0;32m--> 150\u001b[0;31m         \u001b[0mfeatures\u001b[0m \u001b[0;34m=\u001b[0m \u001b[0mself\u001b[0m\u001b[0;34m.\u001b[0m\u001b[0mmodel\u001b[0m\u001b[0;34m.\u001b[0m\u001b[0mfeatures\u001b[0m\u001b[0;34m(\u001b[0m\u001b[0mX\u001b[0m\u001b[0;34m)\u001b[0m\u001b[0;34m\u001b[0m\u001b[0m\n\u001b[0m\u001b[1;32m    151\u001b[0m         \u001b[0;31m#print('after Alexnet features: ', features.size())\u001b[0m\u001b[0;34m\u001b[0m\u001b[0;34m\u001b[0m\u001b[0m\n\u001b[1;32m    152\u001b[0m \u001b[0;34m\u001b[0m\u001b[0m\n",
      "\u001b[0;32m/deep/group/packages/miniconda3/envs/imaging-vis/lib/python3.6/site-packages/torch/nn/modules/module.py\u001b[0m in \u001b[0;36m__call__\u001b[0;34m(self, *input, **kwargs)\u001b[0m\n\u001b[1;32m    323\u001b[0m         \u001b[0;32mfor\u001b[0m \u001b[0mhook\u001b[0m \u001b[0;32min\u001b[0m \u001b[0mself\u001b[0m\u001b[0;34m.\u001b[0m\u001b[0m_forward_pre_hooks\u001b[0m\u001b[0;34m.\u001b[0m\u001b[0mvalues\u001b[0m\u001b[0;34m(\u001b[0m\u001b[0;34m)\u001b[0m\u001b[0;34m:\u001b[0m\u001b[0;34m\u001b[0m\u001b[0m\n\u001b[1;32m    324\u001b[0m             \u001b[0mhook\u001b[0m\u001b[0;34m(\u001b[0m\u001b[0mself\u001b[0m\u001b[0;34m,\u001b[0m \u001b[0minput\u001b[0m\u001b[0;34m)\u001b[0m\u001b[0;34m\u001b[0m\u001b[0m\n\u001b[0;32m--> 325\u001b[0;31m         \u001b[0mresult\u001b[0m \u001b[0;34m=\u001b[0m \u001b[0mself\u001b[0m\u001b[0;34m.\u001b[0m\u001b[0mforward\u001b[0m\u001b[0;34m(\u001b[0m\u001b[0;34m*\u001b[0m\u001b[0minput\u001b[0m\u001b[0;34m,\u001b[0m \u001b[0;34m**\u001b[0m\u001b[0mkwargs\u001b[0m\u001b[0;34m)\u001b[0m\u001b[0;34m\u001b[0m\u001b[0m\n\u001b[0m\u001b[1;32m    326\u001b[0m         \u001b[0;32mfor\u001b[0m \u001b[0mhook\u001b[0m \u001b[0;32min\u001b[0m \u001b[0mself\u001b[0m\u001b[0;34m.\u001b[0m\u001b[0m_forward_hooks\u001b[0m\u001b[0;34m.\u001b[0m\u001b[0mvalues\u001b[0m\u001b[0;34m(\u001b[0m\u001b[0;34m)\u001b[0m\u001b[0;34m:\u001b[0m\u001b[0;34m\u001b[0m\u001b[0m\n\u001b[1;32m    327\u001b[0m             \u001b[0mhook_result\u001b[0m \u001b[0;34m=\u001b[0m \u001b[0mhook\u001b[0m\u001b[0;34m(\u001b[0m\u001b[0mself\u001b[0m\u001b[0;34m,\u001b[0m \u001b[0minput\u001b[0m\u001b[0;34m,\u001b[0m \u001b[0mresult\u001b[0m\u001b[0;34m)\u001b[0m\u001b[0;34m\u001b[0m\u001b[0m\n",
      "\u001b[0;32m/deep/group/packages/miniconda3/envs/imaging-vis/lib/python3.6/site-packages/torch/nn/modules/container.py\u001b[0m in \u001b[0;36mforward\u001b[0;34m(self, input)\u001b[0m\n\u001b[1;32m     65\u001b[0m     \u001b[0;32mdef\u001b[0m \u001b[0mforward\u001b[0m\u001b[0;34m(\u001b[0m\u001b[0mself\u001b[0m\u001b[0;34m,\u001b[0m \u001b[0minput\u001b[0m\u001b[0;34m)\u001b[0m\u001b[0;34m:\u001b[0m\u001b[0;34m\u001b[0m\u001b[0m\n\u001b[1;32m     66\u001b[0m         \u001b[0;32mfor\u001b[0m \u001b[0mmodule\u001b[0m \u001b[0;32min\u001b[0m \u001b[0mself\u001b[0m\u001b[0;34m.\u001b[0m\u001b[0m_modules\u001b[0m\u001b[0;34m.\u001b[0m\u001b[0mvalues\u001b[0m\u001b[0;34m(\u001b[0m\u001b[0;34m)\u001b[0m\u001b[0;34m:\u001b[0m\u001b[0;34m\u001b[0m\u001b[0m\n\u001b[0;32m---> 67\u001b[0;31m             \u001b[0minput\u001b[0m \u001b[0;34m=\u001b[0m \u001b[0mmodule\u001b[0m\u001b[0;34m(\u001b[0m\u001b[0minput\u001b[0m\u001b[0;34m)\u001b[0m\u001b[0;34m\u001b[0m\u001b[0m\n\u001b[0m\u001b[1;32m     68\u001b[0m         \u001b[0;32mreturn\u001b[0m \u001b[0minput\u001b[0m\u001b[0;34m\u001b[0m\u001b[0m\n\u001b[1;32m     69\u001b[0m \u001b[0;34m\u001b[0m\u001b[0m\n",
      "\u001b[0;32m/deep/group/packages/miniconda3/envs/imaging-vis/lib/python3.6/site-packages/torch/nn/modules/module.py\u001b[0m in \u001b[0;36m__call__\u001b[0;34m(self, *input, **kwargs)\u001b[0m\n\u001b[1;32m    323\u001b[0m         \u001b[0;32mfor\u001b[0m \u001b[0mhook\u001b[0m \u001b[0;32min\u001b[0m \u001b[0mself\u001b[0m\u001b[0;34m.\u001b[0m\u001b[0m_forward_pre_hooks\u001b[0m\u001b[0;34m.\u001b[0m\u001b[0mvalues\u001b[0m\u001b[0;34m(\u001b[0m\u001b[0;34m)\u001b[0m\u001b[0;34m:\u001b[0m\u001b[0;34m\u001b[0m\u001b[0m\n\u001b[1;32m    324\u001b[0m             \u001b[0mhook\u001b[0m\u001b[0;34m(\u001b[0m\u001b[0mself\u001b[0m\u001b[0;34m,\u001b[0m \u001b[0minput\u001b[0m\u001b[0;34m)\u001b[0m\u001b[0;34m\u001b[0m\u001b[0m\n\u001b[0;32m--> 325\u001b[0;31m         \u001b[0mresult\u001b[0m \u001b[0;34m=\u001b[0m \u001b[0mself\u001b[0m\u001b[0;34m.\u001b[0m\u001b[0mforward\u001b[0m\u001b[0;34m(\u001b[0m\u001b[0;34m*\u001b[0m\u001b[0minput\u001b[0m\u001b[0;34m,\u001b[0m \u001b[0;34m**\u001b[0m\u001b[0mkwargs\u001b[0m\u001b[0;34m)\u001b[0m\u001b[0;34m\u001b[0m\u001b[0m\n\u001b[0m\u001b[1;32m    326\u001b[0m         \u001b[0;32mfor\u001b[0m \u001b[0mhook\u001b[0m \u001b[0;32min\u001b[0m \u001b[0mself\u001b[0m\u001b[0;34m.\u001b[0m\u001b[0m_forward_hooks\u001b[0m\u001b[0;34m.\u001b[0m\u001b[0mvalues\u001b[0m\u001b[0;34m(\u001b[0m\u001b[0;34m)\u001b[0m\u001b[0;34m:\u001b[0m\u001b[0;34m\u001b[0m\u001b[0m\n\u001b[1;32m    327\u001b[0m             \u001b[0mhook_result\u001b[0m \u001b[0;34m=\u001b[0m \u001b[0mhook\u001b[0m\u001b[0;34m(\u001b[0m\u001b[0mself\u001b[0m\u001b[0;34m,\u001b[0m \u001b[0minput\u001b[0m\u001b[0;34m,\u001b[0m \u001b[0mresult\u001b[0m\u001b[0;34m)\u001b[0m\u001b[0;34m\u001b[0m\u001b[0m\n",
      "\u001b[0;32m/deep/group/packages/miniconda3/envs/imaging-vis/lib/python3.6/site-packages/torch/nn/modules/conv.py\u001b[0m in \u001b[0;36mforward\u001b[0;34m(self, input)\u001b[0m\n\u001b[1;32m    275\u001b[0m     \u001b[0;32mdef\u001b[0m \u001b[0mforward\u001b[0m\u001b[0;34m(\u001b[0m\u001b[0mself\u001b[0m\u001b[0;34m,\u001b[0m \u001b[0minput\u001b[0m\u001b[0;34m)\u001b[0m\u001b[0;34m:\u001b[0m\u001b[0;34m\u001b[0m\u001b[0m\n\u001b[1;32m    276\u001b[0m         return F.conv2d(input, self.weight, self.bias, self.stride,\n\u001b[0;32m--> 277\u001b[0;31m                         self.padding, self.dilation, self.groups)\n\u001b[0m\u001b[1;32m    278\u001b[0m \u001b[0;34m\u001b[0m\u001b[0m\n\u001b[1;32m    279\u001b[0m \u001b[0;34m\u001b[0m\u001b[0m\n",
      "\u001b[0;32m/deep/group/packages/miniconda3/envs/imaging-vis/lib/python3.6/site-packages/torch/nn/functional.py\u001b[0m in \u001b[0;36mconv2d\u001b[0;34m(input, weight, bias, stride, padding, dilation, groups)\u001b[0m\n\u001b[1;32m     88\u001b[0m                 \u001b[0m_pair\u001b[0m\u001b[0;34m(\u001b[0m\u001b[0;36m0\u001b[0m\u001b[0;34m)\u001b[0m\u001b[0;34m,\u001b[0m \u001b[0mgroups\u001b[0m\u001b[0;34m,\u001b[0m \u001b[0mtorch\u001b[0m\u001b[0;34m.\u001b[0m\u001b[0mbackends\u001b[0m\u001b[0;34m.\u001b[0m\u001b[0mcudnn\u001b[0m\u001b[0;34m.\u001b[0m\u001b[0mbenchmark\u001b[0m\u001b[0;34m,\u001b[0m\u001b[0;34m\u001b[0m\u001b[0m\n\u001b[1;32m     89\u001b[0m                 torch.backends.cudnn.deterministic, torch.backends.cudnn.enabled)\n\u001b[0;32m---> 90\u001b[0;31m     \u001b[0;32mreturn\u001b[0m \u001b[0mf\u001b[0m\u001b[0;34m(\u001b[0m\u001b[0minput\u001b[0m\u001b[0;34m,\u001b[0m \u001b[0mweight\u001b[0m\u001b[0;34m,\u001b[0m \u001b[0mbias\u001b[0m\u001b[0;34m)\u001b[0m\u001b[0;34m\u001b[0m\u001b[0m\n\u001b[0m\u001b[1;32m     91\u001b[0m \u001b[0;34m\u001b[0m\u001b[0m\n\u001b[1;32m     92\u001b[0m \u001b[0;34m\u001b[0m\u001b[0m\n",
      "\u001b[0;31mRuntimeError\u001b[0m: cuda runtime error (2) : out of memory at /opt/conda/conda-bld/pytorch_1512386481460/work/torch/lib/THC/generic/THCStorage.cu:58"
     ]
    }
   ],
   "source": [
    "construct_output_table(models, ax_loader)"
   ]
  },
  {
   "cell_type": "code",
   "execution_count": null,
   "metadata": {
    "collapsed": true
   },
   "outputs": [],
   "source": []
  },
  {
   "cell_type": "code",
   "execution_count": null,
   "metadata": {
    "collapsed": true
   },
   "outputs": [],
   "source": []
  }
 ],
 "metadata": {
  "kernelspec": {
   "display_name": "Python 3",
   "language": "python",
   "name": "python3"
  },
  "language_info": {
   "codemirror_mode": {
    "name": "ipython",
    "version": 3
   },
   "file_extension": ".py",
   "mimetype": "text/x-python",
   "name": "python",
   "nbconvert_exporter": "python",
   "pygments_lexer": "ipython3",
   "version": "3.6.3"
  }
 },
 "nbformat": 4,
 "nbformat_minor": 2
}
